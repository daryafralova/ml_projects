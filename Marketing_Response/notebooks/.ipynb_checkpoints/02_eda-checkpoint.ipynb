{
 "cells": [
  {
   "cell_type": "markdown",
   "id": "5e8991d5-da65-4a05-ae6c-d893fdc03f24",
   "metadata": {},
   "source": [
    "## EDA"
   ]
  },
  {
   "cell_type": "markdown",
   "id": "30a0c1aa-95a3-4034-9a5d-c63f90f2bb98",
   "metadata": {},
   "source": [
    "### Подключение библиотек и загрузка данных"
   ]
  },
  {
   "cell_type": "code",
   "execution_count": 1,
   "id": "d91af964-0e9d-4edd-a8d0-54a5d9c4ca12",
   "metadata": {},
   "outputs": [
    {
     "ename": "ModuleNotFoundError",
     "evalue": "No module named 'src'",
     "output_type": "error",
     "traceback": [
      "\u001b[0;31m---------------------------------------------------------------------------\u001b[0m",
      "\u001b[0;31mModuleNotFoundError\u001b[0m                       Traceback (most recent call last)",
      "Cell \u001b[0;32mIn[1], line 90\u001b[0m\n\u001b[1;32m     87\u001b[0m \u001b[38;5;28;01mimport\u001b[39;00m\u001b[38;5;250m \u001b[39m\u001b[38;5;21;01mshap\u001b[39;00m\n\u001b[1;32m     89\u001b[0m \u001b[38;5;66;03m# Импорт вспомогательных функций\u001b[39;00m\n\u001b[0;32m---> 90\u001b[0m \u001b[38;5;28;01mfrom\u001b[39;00m\u001b[38;5;250m \u001b[39m\u001b[38;5;21;01msrc\u001b[39;00m\u001b[38;5;21;01m.\u001b[39;00m\u001b[38;5;21;01mdata_preprocessing\u001b[39;00m\u001b[38;5;250m \u001b[39m\u001b[38;5;28;01mimport\u001b[39;00m remove_outliers_iqr\n",
      "\u001b[0;31mModuleNotFoundError\u001b[0m: No module named 'src'"
     ]
    }
   ],
   "source": [
    "# Стандартная библиотека\n",
    "import sys\n",
    "sys.path.insert(0, '/home/alorozhkov/jup/ml_projects/Marketing_Response/utils/')\n",
    "sys.path.insert(0, '/home/alorozhkov/jup/ml_projects/Marketing_Response/src/')\n",
    "\n",
    "\n",
    "import os\n",
    "from getpass import getpass\n",
    "\n",
    "\n",
    "import time\n",
    "from tqdm import tqdm\n",
    "\n",
    "\n",
    "import warnings\n",
    "warnings.filterwarnings(\"ignore\", module=\"matplotlib.font_manager\")\n",
    "\n",
    "\n",
    "import numpy as np\n",
    "np.random.seed(42)\n",
    "\n",
    "\n",
    "import pandas as pd\n",
    "pd.set_option('display.max_rows', 500)\n",
    "pd.set_option('display.max_columns', 500)\n",
    "pd.set_option('display.width', 1000)\n",
    "pd.set_option('display.max_colwidth', None)\n",
    "pd.options.display.float_format = lambda x: ('%.12f' % x).rstrip('0').rstrip('.')\n",
    "\n",
    "#Визуализация\n",
    "import matplotlib.pyplot as plt\n",
    "import seaborn as sns\n",
    "from matplotlib import font_manager\n",
    "font_manager.findSystemFonts(fontpaths=None, fontext='ttf')\n",
    "plt.rcParams['font.family'] = 'DejaVu Sans'\n",
    "\n",
    "\n",
    "#MLFlow\n",
    "import mlflow\n",
    "mlflow.set_tracking_uri(f'http://127.0.0.1:5000/')\n",
    "mlflow.set_experiment(\"Marketing_Response\")\n",
    "\n",
    "#AutoML\n",
    "from pycaret.classification import *\n",
    "\n",
    "\n",
    "#Стат тесты\n",
    "from scipy.stats import ttest_ind\n",
    "from scipy.stats import chi2_contingency\n",
    "from scipy.stats import mannwhitneyu\n",
    "from scipy.stats import norm\n",
    "from scipy.stats import probplot\n",
    "from scipy.stats import shapiro\n",
    "from scipy.stats import stats\n",
    "from statsmodels.tools.tools import add_constant\n",
    "from statsmodels.stats.outliers_influence import variance_inflation_factor\n",
    "\n",
    "#Нормализация и балансировка данных\n",
    "from imblearn.over_sampling import SMOTE\n",
    "from sklearn.preprocessing import LabelEncoder, MinMaxScaler\n",
    "\n",
    "#Подбор гиперпарамметров\n",
    "from sklearn.model_selection import (\n",
    "    GridSearchCV, StratifiedKFold, train_test_split\n",
    ")\n",
    "\n",
    "\n",
    "#Обучение модели\n",
    "from sklearn.linear_model import RidgeClassifier, LogisticRegression\n",
    "from sklearn.svm import SVC\n",
    "from sklearn.ensemble import RandomForestClassifier, ExtraTreesClassifier\n",
    "from sklearn.tree import DecisionTreeClassifier\n",
    "from catboost import CatBoostClassifier\n",
    "from sklearn.metrics import classification_report\n",
    "from sklearn.dummy import DummyClassifier\n",
    "from sklearn.neighbors import KNeighborsClassifier\n",
    "\n",
    "#Метрики\n",
    "from sklearn.metrics import (\n",
    "    average_precision_score, confusion_matrix, ConfusionMatrixDisplay,\n",
    "    f1_score, precision_score, recall_score, roc_auc_score,\n",
    "    PrecisionRecallDisplay, RocCurveDisplay\n",
    ")\n",
    "\n",
    "# Отбор признаков\n",
    "from sklearn.feature_selection import SelectKBest, f_classif\n",
    "import shap\n",
    "\n",
    "# Импорт вспомогательных функций\n",
    "from src.data_preprocessing import remove_outliers_iqr"
   ]
  },
  {
   "cell_type": "code",
   "execution_count": null,
   "id": "34b377f2-e113-4f81-bbd7-e04e187916ed",
   "metadata": {},
   "outputs": [],
   "source": [
    "#Пути к данным\n",
    "processed_data = '/home/alorozhkov/jup/ml_projects/Marketing_Response/data/processed/MK_PROCESSED_DATA.csv'\n",
    "processed_eda_data = '/home/alorozhkov/jup/ml_projects/Marketing_Response/data/processed/MK_PROCESSED_EDA_DATA.csv'"
   ]
  },
  {
   "cell_type": "code",
   "execution_count": null,
   "id": "80525d7b-8c36-45db-b154-e411b4a7eac2",
   "metadata": {},
   "outputs": [],
   "source": [
    "#Загрузка данных\n",
    "data = pd.read_csv('/home/alorozhkov/jup/ml_projects/Marketing_Response/data/processed/MK_PROCESSED_DATA.csv')\n",
    "data.head(2)\n"
   ]
  },
  {
   "cell_type": "markdown",
   "id": "c4e37a50-fc46-43df-b492-efbe4e3eff20",
   "metadata": {},
   "source": [
    "### Создание новых признаков, первичный EDA"
   ]
  },
  {
   "cell_type": "code",
   "execution_count": null,
   "id": "8fd6ab06-de8b-4b15-8cfb-77c02f73bee9",
   "metadata": {},
   "outputs": [],
   "source": [
    "#Вывожу стат информацию по всем признакам\n",
    "data.describe().T"
   ]
  },
  {
   "cell_type": "markdown",
   "id": "325ec661-7133-4502-9c73-59d3623fa671",
   "metadata": {},
   "source": [
    "Вывод:\n",
    "- Income, Year_Birth имеют выбросы(возраст=1893 и 1899, доход 666 666 со средним = 52 247 - выброс)\n",
    "- Z_CostContact, Z_Revenue\t - столбцы не несущие никакой информации --> нужно удалить\n",
    "- Complain - всего 0.09 жалоб --> слишком мало для дальнейшего анализа --> нужно удалить"
   ]
  },
  {
   "cell_type": "code",
   "execution_count": null,
   "id": "d5821300-f049-424b-b4f1-955453d3eb67",
   "metadata": {},
   "outputs": [],
   "source": [
    "#Преобразую дату рождения в возраст для более удобного анализа\n",
    "data['Age'] = 2025 - data['Year_Birth']"
   ]
  },
  {
   "cell_type": "markdown",
   "id": "900670f2-8db0-45a6-a2f5-d4c94f3c8706",
   "metadata": {},
   "source": [
    "Нам не важен возраст ребенка в семье, а только есть дети в семье или нет. \n",
    "Поэтому, целесообразней создать новый признак по наличию детей не зависимо от их возраста\n",
    "Ниже создаю новый признак HasChildren"
   ]
  },
  {
   "cell_type": "code",
   "execution_count": null,
   "id": "52e30356-4e0d-4d5b-b3ae-ec733202c490",
   "metadata": {},
   "outputs": [],
   "source": [
    "# Создание признака HasChildren\n",
    "data['HasChildren'] = (data[['Kidhome', 'Teenhome']].sum(axis=1) > 0).astype(int)"
   ]
  },
  {
   "cell_type": "code",
   "execution_count": null,
   "id": "b408c2ff-0260-42fc-8862-516f4c2884f7",
   "metadata": {},
   "outputs": [],
   "source": [
    "# Вывожу уникальные значения по полю Marital_Status\n",
    "data['Marital_Status'].unique()"
   ]
  },
  {
   "cell_type": "markdown",
   "id": "84801311-1aec-423c-9214-db50f56959f9",
   "metadata": {},
   "source": [
    "Создаю новый признак MaritalFlag- если в отношения=1 иначе 0"
   ]
  },
  {
   "cell_type": "code",
   "execution_count": null,
   "id": "3906c724-26e5-4cc3-8933-b0b94e4dfed3",
   "metadata": {},
   "outputs": [],
   "source": [
    "# Добавление фичи MaritalFlag \n",
    "data['MaritalFlag'] = data['Marital_Status'].isin(['Married', 'Together']).astype(int)"
   ]
  },
  {
   "cell_type": "markdown",
   "id": "72032c9f-4aed-41c0-b224-ce3c2ca00ee7",
   "metadata": {},
   "source": [
    "Нас не интересует какие покупки, а именно что покупают клиенты. Поэтому создаю новый признак TotalSpent который показывает сумму трат покупателя."
   ]
  },
  {
   "cell_type": "code",
   "execution_count": null,
   "id": "eff3f84d-198a-4918-a482-8dde654a4aad",
   "metadata": {},
   "outputs": [],
   "source": [
    "# Создаю TotalSpent признак по сумме трат покупателей \n",
    "mnt_cols = [\n",
    "    'MntWines',          # траты на вино\n",
    "    'MntFruits',         # траты на фрукты\n",
    "    'MntMeatProducts',   # траты на мясо\n",
    "    'MntFishProducts',   # траты на рыбу\n",
    "    'MntSweetProducts',  # траты на сладости\n",
    "    'MntGoldProds'       # траты на премиум товары\n",
    "]\n",
    "data['TotalSpent'] = data[mnt_cols].sum(axis=1)"
   ]
  },
  {
   "cell_type": "markdown",
   "id": "7878ac6d-8db1-4490-9f2b-be330861116e",
   "metadata": {},
   "source": [
    "Преобразую временные признаки для дальнейшего анализа"
   ]
  },
  {
   "cell_type": "code",
   "execution_count": null,
   "id": "0d50d116-7968-496e-8540-02547e8fcf70",
   "metadata": {},
   "outputs": [],
   "source": [
    "# Создаю новые столбцы по Dt_Customer \n",
    "data['Dt_Customer'] = pd.to_datetime(data['Dt_Customer'], dayfirst=True)\n",
    "data['Customer_Since_Days'] = (pd.Timestamp.today() - data['Dt_Customer']).dt.days\n",
    "data['Customer_Since_Years'] = (data['Customer_Since_Days'] / 365.25).astype(int)"
   ]
  },
  {
   "cell_type": "markdown",
   "id": "a7ff40cb-7895-4a07-a0bd-0ce02fadc6d4",
   "metadata": {},
   "source": [
    "Для уменьшения кол-ва признаков и облегчения анализа данных, создаю признак вовлеченности покупателя TotalPurchaseActivity, которая отображает сумму всех покупок человека."
   ]
  },
  {
   "cell_type": "code",
   "execution_count": null,
   "id": "d9996300-0f3b-4293-8734-0f5b8933c53d",
   "metadata": {},
   "outputs": [],
   "source": [
    "# Создаю Фичу вовлеченности покупателя\n",
    "data['TotalPurchaseActivity'] = data[['NumCatalogPurchases', 'NumWebPurchases', 'NumStorePurchases', 'NumDealsPurchases']].sum(axis=1)"
   ]
  },
  {
   "cell_type": "markdown",
   "id": "4ba16003-6ee4-40f2-be23-d0d5ff63130e",
   "metadata": {},
   "source": [
    "Участие в предыдущих кампаниях также преобразую к одному столбцу - TotalAcceptedCmp, который представляет из себя сумму по всем предыдущим кампаниям."
   ]
  },
  {
   "cell_type": "code",
   "execution_count": null,
   "id": "373d66da-a349-4d1c-8de0-ee323fc75ef9",
   "metadata": {},
   "outputs": [],
   "source": [
    "# Создаю фичу по кол-ву кампаний в которых ранее участвовал \n",
    "data['TotalAcceptedCmp'] = data[['AcceptedCmp1', 'AcceptedCmp3', 'AcceptedCmp5', 'AcceptedCmp2', 'AcceptedCmp4']].sum(axis=1)"
   ]
  },
  {
   "cell_type": "code",
   "execution_count": null,
   "id": "9969bed6-344e-42db-b95c-1eef9c1fbb4f",
   "metadata": {},
   "outputs": [],
   "source": [
    "# Создаю фичу по наличию высшего образования HigherEducation\n",
    "higher_edu = ['Graduation', 'Master', 'PhD']\n",
    "data['HigherEducation'] = data['Education'].isin(higher_edu).astype(int)"
   ]
  },
  {
   "cell_type": "code",
   "execution_count": null,
   "id": "ff3f40ee-95b7-4431-a948-cc6e1079c630",
   "metadata": {},
   "outputs": [],
   "source": [
    "#Удаляю излишние столбцы из данных\n",
    "cols = [\n",
    "    'ID', 'Year_Birth', 'Education', 'Marital_Status', 'Kidhome', 'Teenhome', \n",
    "    'MntWines', 'MntFruits', 'MntMeatProducts', 'MntFishProducts', 'MntSweetProducts', \n",
    "    'MntGoldProds', 'NumDealsPurchases', 'NumWebPurchases', 'NumCatalogPurchases', 'NumStorePurchases',\n",
    "    'AcceptedCmp3', 'AcceptedCmp4', 'AcceptedCmp5', 'AcceptedCmp1', 'AcceptedCmp2',\n",
    "    'Z_CostContact', 'Z_Revenue', 'Dt_Customer', 'Customer_Since_Days', 'Customer_Since_Years', 'Complain'\n",
    "]\n",
    "data.drop(cols, axis=1, inplace=True) "
   ]
  },
  {
   "cell_type": "markdown",
   "id": "73ab59e3-705d-4d08-8c72-c8131843a971",
   "metadata": {},
   "source": [
    "Удаляю дубликаты:"
   ]
  },
  {
   "cell_type": "code",
   "execution_count": null,
   "id": "2c77840d-ce57-4952-890b-1e36bf867a55",
   "metadata": {},
   "outputs": [],
   "source": [
    "#Вывожу дубликаты\n",
    "duplicates = (data[data.duplicated(keep='first')]).sum()\n",
    "print(duplicates)"
   ]
  },
  {
   "cell_type": "code",
   "execution_count": null,
   "id": "755a7537-84c1-422b-8d6d-56f952e75f9b",
   "metadata": {},
   "outputs": [],
   "source": [
    "#Удаляю дубликаты\n",
    "data = data.drop_duplicates(keep='first')"
   ]
  },
  {
   "cell_type": "markdown",
   "id": "758f2a35-b1e9-4db4-8817-9bcfe072a3e8",
   "metadata": {},
   "source": [
    "### Анализ числовых признаков"
   ]
  },
  {
   "cell_type": "code",
   "execution_count": null,
   "id": "e8bb6088-0fc5-45a1-8284-9681cf0bbdf7",
   "metadata": {},
   "outputs": [],
   "source": [
    "data.head(2)"
   ]
  },
  {
   "cell_type": "markdown",
   "id": "fa3262a8-8054-44a6-b80f-feacb8d8250b",
   "metadata": {},
   "source": [
    "Описательная статистика по данным указала на наличие выбросов по некоторым столбцам.\n",
    "\n",
    "Для обработки выбросов буду использовать метож межквартильного размаха (IQR)\n",
    "\n",
    "Данный метод надежен для обнаружения и удаления выбросов т.к.:\n",
    "\n",
    "- Он вычисляет разницу между 25-м процентилем (Q1) и 75-м процентилем (Q3).\n",
    "- Выбросами определяются значения, попадающие ниже диапазона Q1 - 1,5 * IQR или выше диапазона Q3 + 1,5 * IQR.\n",
    "- Данный метод помогает уменьшить влияние экстремальных значений, делая модель более стабильной.\n",
    "Так как возможные выбросы были обнаружены в различных числовых признаках, пишу функцию для удобства"
   ]
  },
  {
   "cell_type": "code",
   "execution_count": null,
   "id": "f13eff41-ac82-4f6d-907a-5054e909c597",
   "metadata": {},
   "outputs": [],
   "source": [
    "columns_to_clean = ['Age', 'TotalSpent', 'Income']\n",
    "\n",
    "# Удаление выбросов для каждого признака из columns_to_clean\n",
    "for col in columns_to_clean:\n",
    "    original_shape = data.shape[0]  # Изначальный размер данных до удаления\n",
    "    data = remove_outliers_iqr(data, col)  # Применяю функцию выше для удаления\n",
    "    new_shape = data.shape[0]  # Данные после удаления\n",
    "    print(f\"Удалено {original_shape - new_shape} выбросов с '{col}' столбца.\")\n",
    "\n",
    "print(f\"\\nРазмер датасета без выбросов: {data.shape}\")"
   ]
  },
  {
   "cell_type": "markdown",
   "id": "a4588cb8-a411-459c-a28d-b03431e63ca6",
   "metadata": {},
   "source": [
    "После удаления выбросов, проверяю каждый признак визуально + смотрю распределение данных по признакам"
   ]
  },
  {
   "cell_type": "code",
   "execution_count": null,
   "id": "4f99e9f8-4972-4e6c-bd12-c132c3894232",
   "metadata": {},
   "outputs": [],
   "source": [
    "fig, axes = plt.subplots(1, 3, figsize=(18, 5))  # 1 строка, 3 столбца\n",
    "\n",
    "for i, feature in enumerate(columns_to_clean):\n",
    "    sns.boxplot(data=data, x=feature, ax=axes[i], color='skyblue')\n",
    "    axes[i].set_title(f'Boxplot: {feature}')\n",
    "    axes[i].set_xlabel('')\n",
    "\n",
    "plt.tight_layout()\n",
    "plt.show()"
   ]
  },
  {
   "cell_type": "code",
   "execution_count": null,
   "id": "4fce2c79-6e36-45b6-ac35-354e90eca13a",
   "metadata": {},
   "outputs": [],
   "source": [
    "columns_to_clean = ['Age', 'TotalSpent', 'Income']\n",
    "\n",
    "fig, axes = plt.subplots(1, 3, figsize=(18, 5))  # 1 строка, 3 графика\n",
    "\n",
    "for i, feature in enumerate(columns_to_clean):\n",
    "    sns.kdeplot(data[feature], fill=True, ax=axes[i], color='skyblue', linewidth=2)\n",
    "    axes[i].set_title(f'Распределение: {feature}')\n",
    "    axes[i].set_xlabel('Значение')\n",
    "    axes[i].set_ylabel('Плотность')\n",
    "\n",
    "plt.tight_layout()\n",
    "plt.show()"
   ]
  },
  {
   "cell_type": "markdown",
   "id": "670a7279-5a83-47a0-b651-86b56b1fac08",
   "metadata": {},
   "source": [
    "Видим по графику boxplot что выбросы в переменных Age, Income, TotalSpent удалены.\n",
    "\n",
    "По распределниям признаков видим что TotalSpent лучше логарифмировать, Income распределение блтзко к нормальному, а Age скошено вправо.\n",
    "\n",
    "Перехожу к дальнейшему анализу этих признаков"
   ]
  },
  {
   "cell_type": "code",
   "execution_count": null,
   "id": "56c6a8f2-d085-41e7-8872-827507265a24",
   "metadata": {},
   "outputs": [],
   "source": [
    "#Сводная информация по Income\n",
    "print(data['Income'].describe())"
   ]
  },
  {
   "cell_type": "markdown",
   "id": "53a21de6-a6bc-4380-99ad-7ec5d5b2b9e7",
   "metadata": {},
   "source": [
    "Из сводной статистики видим, что распределение довольно симметричное, однако разброс дохода достаточно большой std = 20 000\n",
    "\n",
    "Также видно, что диапазон значений достаточно большой min=1 730, а max = 11 3734\n",
    "\n",
    "Лучше всего логарифмировать если всетаки буду использовать данный столбец в обучении модели "
   ]
  },
  {
   "cell_type": "markdown",
   "id": "e9ae454b-7fbf-4915-8d48-b5a98db50e1c",
   "metadata": {},
   "source": [
    "Для более детального и упрощенного  анализа признака группирую Income по квантилям, где:\n",
    "\n",
    "- Q1: 0–25% (низкий доход)\n",
    "- Q2: 25–50%\n",
    "- Q3: 50–75%\n",
    "- Q4: 75–100% (высокий доход)"
   ]
  },
  {
   "cell_type": "code",
   "execution_count": null,
   "id": "c5c70a04-dd5c-4a3f-9849-315594cdba3d",
   "metadata": {},
   "outputs": [],
   "source": [
    "# Группировка по квантилям Income\n",
    "data['IncomeGroup'] = pd.qcut(data['Income'], q=4, labels=['Q1', 'Q2', 'Q3', 'Q4'])\n",
    "sns.barplot(x='IncomeGroup', y='Response', data=data, estimator=np.mean)\n",
    "plt.title('Доля отклика по квантилям Income')\n",
    "plt.show()"
   ]
  },
  {
   "cell_type": "markdown",
   "id": "ee81c678-8fce-458d-8c56-2f67f805c985",
   "metadata": {},
   "source": [
    "На данном графике доля отклика (Response) по квантилям дохода (IncomeGroup).\n",
    "\n",
    "Выводы по графику:\n",
    "\n",
    "- У людей с высоким доходом(Q4) отклик существенно выше чем у всех остальных групп\n",
    "- Первые три группы(Q1, Q2, Q3) примерно равны по уровню отклика\n",
    "\n",
    "Т.е. уровень дохода существенно влияет на долю отклика"
   ]
  },
  {
   "cell_type": "markdown",
   "id": "a0f03fb7-7c2b-4333-ae4f-7d05ef0ff03c",
   "metadata": {},
   "source": [
    "Что убедится еще раз в достоверности данной информации, проверяю статистическую значимость различий между Q4 и остальными квантилями, где:\n",
    "\n",
    "- H0: Q4 и остальные квантили статистически не отдичаются\n",
    "- H1: Q4 значительно отличается от остальных квантилей"
   ]
  },
  {
   "cell_type": "code",
   "execution_count": null,
   "id": "614e33b5-53b3-4ba8-a872-b30d2a94b453",
   "metadata": {},
   "outputs": [],
   "source": [
    "group_q4 = data[data['IncomeGroup'] == 'Q4']['Response']\n",
    "group_rest = data[data['IncomeGroup'].isin(['Q1', 'Q2', 'Q3'])]['Response']\n",
    "\n",
    "t_stat, p_value = ttest_ind(group_q4, group_rest)\n",
    "print(f'p-value: {p_value:.4f}')"
   ]
  },
  {
   "cell_type": "markdown",
   "id": "14f5fd8a-265b-4f64-96e7-0aae47cf9ea7",
   "metadata": {},
   "source": [
    "Значение p-value< 0.05 говорит о том, что люди с самым высоким доходом (Q4) действительно чаще откликаются, и это не случайность, а устойчивая закономерность.\n",
    "Поэтому мы отвергаем нулевую гипотезу!"
   ]
  },
  {
   "cell_type": "markdown",
   "id": "e4bf5760-f68f-45f3-bfca-233bda0dfdfe",
   "metadata": {},
   "source": [
    "Вывожу информацию по диапазонам дохода по ккаждому квантилю для дальнейшего анализа и преобразований."
   ]
  },
  {
   "cell_type": "code",
   "execution_count": null,
   "id": "f3e9d524-21c8-4a7e-a11a-421408ca21b8",
   "metadata": {},
   "outputs": [],
   "source": [
    "# Группировка данных и расчёт метрик по интервалам\n",
    "data['IncomeInterval'] = pd.qcut(data['Income'], q=4)  # создаём сами интервалы\n",
    "\n",
    "response_by_income = data.groupby('IncomeInterval').agg(\n",
    "    Средний_Response=('Response', 'mean'),\n",
    "    Количество_клиентов=('Response', 'count')\n",
    ").reset_index()"
   ]
  },
  {
   "cell_type": "code",
   "execution_count": null,
   "id": "b38112b7-e1ef-42e5-9273-6eaa20889962",
   "metadata": {},
   "outputs": [],
   "source": [
    "# Преобразую интервалы в строки для читаемости\n",
    "response_by_income['Диапазон_дохода'] = response_by_income['IncomeInterval'].astype(str)\n",
    "print(response_by_income[['Диапазон_дохода', 'Средний_Response', 'Количество_клиентов']])"
   ]
  },
  {
   "cell_type": "markdown",
   "id": "7fe5e21b-6dd2-4df6-918f-89ebebd4ef79",
   "metadata": {},
   "source": [
    "По числовому признаку Income можно сделать следующие выводы:\n",
    "- Income(доход) - достаточно сильный предиктор отклика\n",
    "- Люди с диапазоном дохода от 68 000 до 113 740 - это наша целевая аудитория(Q4)\n",
    "\n",
    "Учитывая все эти факты, создаю новый бинарный признак IsHighIncome который указывает на уровень дохода человека, а именно:\n",
    "- IsHighIncome=1 -высокий доход\n",
    "- IsHighIncome=0 - не высокий доход"
   ]
  },
  {
   "cell_type": "code",
   "execution_count": null,
   "id": "58824337-c5a7-4943-8910-110912110c15",
   "metadata": {},
   "outputs": [],
   "source": [
    "# Cоздаю бинарный признак богатых покупателей IsHighIncome\n",
    "data['IsHighIncome'] = (data['IncomeGroup'] == 'Q4').astype(int)"
   ]
  },
  {
   "cell_type": "markdown",
   "id": "711e3f71-384c-4e2d-9ad5-07d7d86a1457",
   "metadata": {},
   "source": [
    "Визуализирую, как отличается средний уровень отклика  между покупателями с высоким и более низким доходом. \n",
    "\n",
    "Данный график  поможет оценить значимость признака IsHighIncome."
   ]
  },
  {
   "cell_type": "code",
   "execution_count": null,
   "id": "88524dc0-8f35-4de5-b190-d242c5952d76",
   "metadata": {},
   "outputs": [],
   "source": [
    "# Вывожу диаграмму, отражающую долю откликнувшихся в зависимости от принадлежности к группе\n",
    "sns.barplot(x='IsHighIncome', y='Response', data=data, estimator=np.mean)\n",
    "plt.title('Отклик по признаку IsHighIncome')\n",
    "plt.xticks([0, 1], ['Не высокий доход(0)', 'Высокий доход(1)'])\n",
    "plt.show()"
   ]
  },
  {
   "cell_type": "markdown",
   "id": "790a2006-e3ac-4f13-a59e-56ff6b49bdd7",
   "metadata": {},
   "source": [
    "По графику видно, что доля откликнувшися намного больше среди покупателей с высоким доходом.\n",
    "\n",
    "Чтобы удостовериться в увиденном на графике, проведу t-test"
   ]
  },
  {
   "cell_type": "markdown",
   "id": "e33afc07-9155-44d0-9b1f-7598dde1126f",
   "metadata": {},
   "source": [
    "Проверяю, влияет ли принадлежность к группе IsHightIncome на вероятность отклика.\n",
    "\n",
    "H0: Средний отклик одинаков для богатых и небогатых клиентов.\n",
    "\n",
    "H1: Средний отклик различается."
   ]
  },
  {
   "cell_type": "code",
   "execution_count": null,
   "id": "4cdac313-8960-4232-b5aa-9c0d6cfe0e00",
   "metadata": {},
   "outputs": [],
   "source": [
    "# Разделяю на две группы\n",
    "high_income = data[data['IsHighIncome'] == 1]['Response']\n",
    "low_income = data[data['IsHighIncome'] == 0]['Response']\n",
    "\n",
    "# Провожу t-тест\n",
    "t_stat, p_value = ttest_ind(high_income, low_income, equal_var=False)  # Welch’s t-test\n",
    "\n",
    "print(f't-статистика: {t_stat:.4f}')\n",
    "print(f'p-value: {p_value:.6f}')"
   ]
  },
  {
   "cell_type": "markdown",
   "id": "ad316e5c-adf7-48ba-939d-68cfd9b1f050",
   "metadata": {},
   "source": [
    "По результатам теста получаем p-value < 0.05, а это значит , что признак IsHighIncome оказывает статистически значимое влияние на отклик.\n",
    "\n",
    "Также видим достаточно высокое значение t-test означающее, что группа IsHighIncome=1 сильно отличается по отклику от остальных.\n",
    "\n",
    "---> Отклоняем нулевую гипотезу и оставляем признак IsHighIncome для модели"
   ]
  },
  {
   "cell_type": "code",
   "execution_count": null,
   "id": "577d0a7e-5772-480c-8b38-176919cdecae",
   "metadata": {},
   "outputs": [],
   "source": [
    "#Логарифмирую Income для модели:\n",
    "data['IncomeLog'] = np.log1p(data['Income']) "
   ]
  },
  {
   "cell_type": "markdown",
   "id": "a694c782-3e67-446b-a2ea-b8e5982a686e",
   "metadata": {},
   "source": [
    "Далеее анализирую числовой признак TotalSpent.\n",
    "\n",
    "Для начала вывожу сводную статистику по этому признаку:"
   ]
  },
  {
   "cell_type": "code",
   "execution_count": null,
   "id": "80c7a764-4d57-4531-898a-e034f67f7ad8",
   "metadata": {},
   "outputs": [],
   "source": [
    "#Сводная информация по TotalSpent\n",
    "print(data['TotalSpent'].describe())"
   ]
  },
  {
   "cell_type": "markdown",
   "id": "eadddb45-f212-48f7-be36-220946f925aa",
   "metadata": {},
   "source": [
    "Из сводной статистики видим, что распределение асимметрично, — медиана(50%) =397 сильно меньше среднего(mean) = 605, значит есть богатые клиенты с очень большими тратами, которые \"тянут\" среднее вверх.\n",
    "\n",
    "Данный признак сильно варьируется т.к. min = 5 а max = 2 486\n",
    "\n",
    "Большинство покупателей (75%) тратят менее 1 045, следовательно покупатели с большими суммами - это меньшенство.\n",
    "\n",
    "Лучше всего логарифмировать если всетаки буду использовать данный признак в обучении модели"
   ]
  },
  {
   "cell_type": "markdown",
   "id": "161a1546-6276-41cb-a070-7d5291ddf54e",
   "metadata": {},
   "source": [
    "Строю гистограмму распределения TotalSpent для понимания сколько покупателей попадает в определенный диапазон трат:"
   ]
  },
  {
   "cell_type": "code",
   "execution_count": null,
   "id": "3770d6f0-4e01-47b7-b97d-80ec10ae1152",
   "metadata": {},
   "outputs": [],
   "source": [
    "# Вывожу гистограмму распределения TotalSpent\n",
    "sns.histplot(data['TotalSpent'], bins=30)\n",
    "plt.title('Распределение TotalSpent')\n",
    "plt.show()"
   ]
  },
  {
   "cell_type": "markdown",
   "id": "5950ad8a-5af4-4aed-af39-bcf6a99e4d84",
   "metadata": {},
   "source": [
    "По графику видим, что распределение скошено вправо, что говорит нам о незначительном кол-ве покупателей которые тратят > 1000"
   ]
  },
  {
   "cell_type": "code",
   "execution_count": null,
   "id": "0b9978b4-cc90-45b3-ac66-e31aecbddf0b",
   "metadata": {},
   "outputs": [],
   "source": [
    "sns.boxplot(x='Response', y='TotalSpent', data=data)\n",
    "plt.title('TotalSpent vs Response')\n",
    "plt.show()"
   ]
  },
  {
   "cell_type": "markdown",
   "id": "4495e5a8-749e-4d3a-b205-efa9e1aa75a5",
   "metadata": {},
   "source": [
    "На графике видим сильные визуальные признаки того, что TotalSpent положительно влияет на вероятность отклика, а именно:\n",
    "    \n",
    "- Пользователи, откликнувшиеся на предложение, в среднем тратят гораздо больше (медиана намного выше)\n",
    "\n",
    "- Верхние значения также значительно выше."
   ]
  },
  {
   "cell_type": "markdown",
   "id": "72a89818-fd01-4ac3-b4a1-0644be6a138a",
   "metadata": {},
   "source": [
    "Используем стат тест для проверки важности данного признака. \n",
    "Для теста использую непараметрический тест — тест Манна–Уитни (Mann–Whitney U test), так как распределение скошено вправо и t-test в данном случае не подходит(нужно нормальное распределение).\n",
    "\n",
    "H0: распределения TotalSpent одинаковы для групп Response = 0 и Response = 1\n",
    "\n",
    "H1: распределения различаются"
   ]
  },
  {
   "cell_type": "code",
   "execution_count": null,
   "id": "59404e9e-ff12-46f5-b9c1-6d536da1a76f",
   "metadata": {},
   "outputs": [],
   "source": [
    "# Разделяю данные\n",
    "spent_0 = data[data['Response'] == 0]['TotalSpent']\n",
    "spent_1 = data[data['Response'] == 1]['TotalSpent']"
   ]
  },
  {
   "cell_type": "code",
   "execution_count": null,
   "id": "8e8b97d9-159b-485c-84fe-6f82a0e1995d",
   "metadata": {},
   "outputs": [],
   "source": [
    "# Применяю тест Манна–Уитни\n",
    "stat, p = mannwhitneyu(spent_0, spent_1, alternative='two-sided')\n",
    "\n",
    "print(f\"U-статистика: {stat}\")\n",
    "print(f\"p-value: {p}\")"
   ]
  },
  {
   "cell_type": "markdown",
   "id": "57218f91-b1d8-4cb6-92f6-a42acc3ef412",
   "metadata": {},
   "source": [
    "Так как p-value < 0.05 мы уверенно отвергаем H0!\n",
    "\n",
    "Признак TotalSpent очень важен для модели.\n",
    "\n",
    "Однако, так как у нас скошенное распределение вправо, лучше применить логарифмирование над этим признаком."
   ]
  },
  {
   "cell_type": "code",
   "execution_count": null,
   "id": "1e7c8905-691c-49cd-8661-8d8ba8bd84da",
   "metadata": {},
   "outputs": [],
   "source": [
    "# Логарифмирую TotalSpent признак\n",
    "data['TotalSpentLog'] = np.log1p(data['TotalSpent']) "
   ]
  },
  {
   "cell_type": "markdown",
   "id": "1e1880ec-260b-4be1-bd8a-8653447aff66",
   "metadata": {},
   "source": [
    "Перехожу к анализу следующего числового признак - Age.\n",
    "\n",
    "Для начала вывожу сводную статистику по этому признаку:"
   ]
  },
  {
   "cell_type": "code",
   "execution_count": null,
   "id": "6186d477-31e7-4cb1-b675-b35571476908",
   "metadata": {},
   "outputs": [],
   "source": [
    "print(data['Age'].describe())"
   ]
  },
  {
   "cell_type": "markdown",
   "id": "2946ca69-8b61-4e28-956f-6a1b5768e49b",
   "metadata": {},
   "source": [
    "По сводной статистике видим, что:\n",
    "- Основное распределение сосредоточено в возрастной группе 48–66 лет."
   ]
  },
  {
   "cell_type": "markdown",
   "id": "fee20606-045d-4ccd-bb6d-e451a3e13f8e",
   "metadata": {},
   "source": [
    "Есть ли разница в возрасте между откликнувшимися или нет?"
   ]
  },
  {
   "cell_type": "code",
   "execution_count": null,
   "id": "f26b4ca3-1176-4d45-9c05-e7930fb513a6",
   "metadata": {},
   "outputs": [],
   "source": [
    "sns.boxplot(x='Response', y='Age', data=data)"
   ]
  },
  {
   "cell_type": "markdown",
   "id": "5b7ac646-e449-431c-aa7e-56f780aa62cd",
   "metadata": {},
   "source": [
    "Медианы и квантили значительно не различаются --> признак не информативен для разделения классов.\n",
    "\n",
    "Чтобы убедится в этом, сравню распределение признака Age в разных классах Response:"
   ]
  },
  {
   "cell_type": "code",
   "execution_count": null,
   "id": "41fde54c-b0e0-43c1-b77f-e37cc80d8b9d",
   "metadata": {},
   "outputs": [],
   "source": [
    "# Группировка по Response и вывод статистик для Age\n",
    "stats = data.groupby('Response')['Age'].describe()\n",
    "display(stats)"
   ]
  },
  {
   "cell_type": "markdown",
   "id": "9609a28d-22e3-47b4-9880-eb262168805d",
   "metadata": {},
   "source": [
    "Видим, что признак Age  не демонстрирует заметного разделения между классами.\n",
    "\n",
    "Проведу стат тест для очередной проверки информативностьи Age.\n",
    "\n",
    "Прежде чем использовать стат тест, смотрю на распределение признака:"
   ]
  },
  {
   "cell_type": "code",
   "execution_count": null,
   "id": "3b46e4c4-949c-45b8-b7c6-32e7e9776e35",
   "metadata": {},
   "outputs": [],
   "source": [
    "# Вывожу гистограмму распределения TotalSpent\n",
    "sns.histplot(data['Age'], bins=30)\n",
    "plt.title('Распределение Age')\n",
    "plt.show()"
   ]
  },
  {
   "cell_type": "markdown",
   "id": "c8abf384-f155-444d-9556-3164b905c1e5",
   "metadata": {},
   "source": [
    "По графику видим, что распределение на самом деле имеет колокообразную фотму, т.е. близко к нормальному распределение.\n",
    "\n",
    "В данном случае, можно использовать t-test для проверки гипотез:\n",
    "\n",
    "H0: Средний возраст у групп с Response =0 и Response =1 одинаков\n",
    "\n",
    "H1: Средний возраст у групп с Response =0 и Response =1 отличается"
   ]
  },
  {
   "cell_type": "code",
   "execution_count": null,
   "id": "507869bc-d821-4498-8546-e83e7fcf6d5d",
   "metadata": {},
   "outputs": [],
   "source": [
    "# Разделяем по классам\n",
    "age_0 = data[data['Response'] == 0]['Age']\n",
    "age_1 = data[data['Response'] == 1]['Age']"
   ]
  },
  {
   "cell_type": "code",
   "execution_count": null,
   "id": "d8dd73a9-a9c5-4447-96ad-e30c650756e0",
   "metadata": {},
   "outputs": [],
   "source": [
    "# t-тест\n",
    "t_stat, p_val = ttest_ind(age_0, age_1, equal_var=False)\n",
    "print(f'T-test: t = {t_stat:.3f}, p = {p_val:.3f}')"
   ]
  },
  {
   "cell_type": "markdown",
   "id": "4b8a68f2-0413-43b3-986f-029861729778",
   "metadata": {},
   "source": [
    "p = 0.341 > 0.05 — значит нет статистически значимого основания отвергнуть H₀"
   ]
  },
  {
   "cell_type": "markdown",
   "id": "00a1ae8e-8b5d-4ecf-b29d-ebdfc7506452",
   "metadata": {},
   "source": [
    "По результатам t-теста признак AGE не является значимым для разделения классов в данной задаче.\n",
    "\n",
    "Т.е. он, скорее всего, не даст сильного прироста качества модели при использовании  его в качестве единственного признака.\n",
    "\n",
    "Однако, может быть данный признак пригодится при feature engineering."
   ]
  },
  {
   "cell_type": "markdown",
   "id": "188a914b-1307-4a31-8728-ec8c6fc3c68d",
   "metadata": {},
   "source": [
    "Следующий числовой признак - это TotalPurchaseActivity\n",
    "\n",
    "Чтобы понять распределение данных и есть ли выбросы - вывожу сводную статистику по признаку TotalPurchaseActivity:"
   ]
  },
  {
   "cell_type": "code",
   "execution_count": null,
   "id": "3320af67-2d11-42fa-b055-e5f8d7724040",
   "metadata": {},
   "outputs": [],
   "source": [
    "print(data['TotalPurchaseActivity'].describe())"
   ]
  },
  {
   "cell_type": "markdown",
   "id": "aeaaf551-1678-4d2b-9f8a-e25548f02f87",
   "metadata": {},
   "source": [
    "- Среднее и медиана близки - это говорит  о том, что распределение относительно симметричное, без сильного сдвига в одну сторону.\n",
    "\n",
    "- Видем, что у некоторых пользователей почти нет активности когда у других очень высокая, т.е. широкий разброс значений --->  стандартное отлонение высокое =7.6\n",
    "\n",
    "В качестве дополнения к числовой статистике вывожу график распределения признака:"
   ]
  },
  {
   "cell_type": "code",
   "execution_count": null,
   "id": "7240ff3e-3df7-4ccd-96c1-e89f2b9e4290",
   "metadata": {},
   "outputs": [],
   "source": [
    "# Вывожу гисторгамму распределения признака\n",
    "sns.histplot(data['TotalPurchaseActivity'], bins=30)\n",
    "plt.title('Распределение TotalPurchaseActivity')\n",
    "plt.show()"
   ]
  },
  {
   "cell_type": "markdown",
   "id": "4689cfe2-99d7-4268-b9ca-828697f01a0a",
   "metadata": {},
   "source": [
    "Выводы по графику:\n",
    "- Распределение не нормальное.\n",
    "- Есть выбросы. Их не много, но все что больше 35 похоже на выбросы.\n",
    "- Основная масса данных сосредоточена в пределах 5–25 единиц активности.\n",
    "- Низкая активность у некоторых пользователей. Столбец на уровне 0–1 показывает, что есть пользователи с почти нулевой покупательной активностью. \n",
    "Их поведение отличается и может быть важным для модели (возможно  как отдельный класс — \"неактивные\")."
   ]
  },
  {
   "cell_type": "markdown",
   "id": "c1ef30fb-4dda-45f7-bf31-0682e2c1fda2",
   "metadata": {},
   "source": [
    "Оценю взаимосвязь TotalPurchaseActivity с целевой переменной Response:"
   ]
  },
  {
   "cell_type": "code",
   "execution_count": null,
   "id": "6856dbc0-1345-4f29-a728-e304b68dd8ca",
   "metadata": {},
   "outputs": [],
   "source": [
    "# Группировка по Response и вывод статистик \n",
    "stats = data.groupby('Response')['Age'].describe()\n",
    "display(stats)"
   ]
  },
  {
   "cell_type": "code",
   "execution_count": null,
   "id": "1bf4ce54-dfe8-451f-9768-a1dc82a56b55",
   "metadata": {},
   "outputs": [],
   "source": [
    "sns.boxplot(x='Response', y='TotalPurchaseActivity', data=data)\n",
    "plt.title('TotalPurchaseActivity по классам Response')\n",
    "plt.show()"
   ]
  },
  {
   "cell_type": "markdown",
   "id": "803bc9a3-1953-4d7d-bd2a-256488475777",
   "metadata": {},
   "source": [
    "Выводы по графику:\n",
    "- Средняя активность выше у откликнувшихся--> откликнувшиеся пользователи более активны в покупках\n",
    "- Все квартильные значения у Response выше--> откликнувшиеся пользователи более активны в покупках\n",
    "- В группе Response=0 есть пользователи с нулевой активностью, тогда как в группе 1 — нет значений ниже 4. ---> нулевая активность может быть сильным предиктором отсутствия отклика\n",
    "- Разброс чуть выше у неоткликнувшихся ---> более разнообразное поведение в этой группе.\n",
    "\n",
    "Предварительный вывод по данному признаку:\n",
    "- Данный признак информативен для модели\n",
    "- Есть чёткая разница в распределении между группами\n",
    "- Нулевые значения явно связаны с отсутствием отклика — стоит рассмотреть бинарный признак активности."
   ]
  },
  {
   "cell_type": "markdown",
   "id": "e824eb20-8a81-4686-91e2-7d437213f613",
   "metadata": {},
   "source": [
    "Применяю функцию IQR использовавшуюся выше для удаления выбросов в TotalPurchaseActivity:"
   ]
  },
  {
   "cell_type": "code",
   "execution_count": null,
   "id": "e53ecc2e-21cc-46a4-afe6-447cdaefb22e",
   "metadata": {},
   "outputs": [],
   "source": [
    "columns_to_clean = ['TotalPurchaseActivity'] \n",
    "\n",
    "for col in columns_to_clean:\n",
    "    original_shape = data.shape[0]\n",
    "    data = remove_outliers_iqr(data, col)\n",
    "    new_shape = data.shape[0]\n",
    "    print(f\"Удалено {original_shape - new_shape} выбросов из '{col}'.\")\n",
    "\n",
    "print(f\"\\nРазмер датасета без выбросов: {data.shape}\")"
   ]
  },
  {
   "cell_type": "markdown",
   "id": "2acd9747-08c6-4dcd-82a7-98d163123d2c",
   "metadata": {},
   "source": [
    "Проожу стат тест для подтверждения гипотезы, что распределение TotalPurchaseActivity различаются между группами Response = 0 и Response = 1:\n",
    "\n",
    "H0: Распределения TotalPurchaseActivity одинаковы для групп Response = 0 и Response = 1.\n",
    "\n",
    "H1: Распределения TotalPurchaseActivity различаются между группами Response = 0 и Response = 1.\n",
    "\n",
    "Так как распределение не нормальное, применяю непараметрический тест Mann–Whitney U test:"
   ]
  },
  {
   "cell_type": "code",
   "execution_count": null,
   "id": "9f998d14-e7e5-4712-a6fa-f011c3ccbe9f",
   "metadata": {},
   "outputs": [],
   "source": [
    "# Разделяю данные на группы\n",
    "group0 = data[data['Response'] == 0]['TotalPurchaseActivity']\n",
    "group1 = data[data['Response'] == 1]['TotalPurchaseActivity']"
   ]
  },
  {
   "cell_type": "code",
   "execution_count": null,
   "id": "beda32f8-0f77-4bc1-a574-ec1b5b26839b",
   "metadata": {},
   "outputs": [],
   "source": [
    "# применяю Mann-Whitney U test\n",
    "stat, p_value = mannwhitneyu(group0, group1, alternative='two-sided')\n",
    "print(f\"Mann-Whitney U test: U = {stat:.3f}, p = {p_value:.5f}\")"
   ]
  },
  {
   "cell_type": "markdown",
   "id": "917f8127-ea5b-4a65-a1f5-aa50dc44297f",
   "metadata": {},
   "source": [
    "Так как p-value < 0.05, мы отвергаем нулевую гипотезу.\n",
    "\n",
    "Это значит, что распределения TotalPurchaseActivity в группах Response = 0 и Response = 1 статистически значимо различаются."
   ]
  },
  {
   "cell_type": "markdown",
   "id": "dfbb95f4-8b39-4c3e-8fe4-455347bf2dfb",
   "metadata": {},
   "source": [
    "NumWebVisitsMonth - следующий числовой признак для анализа.\n",
    "\n",
    "По традиции вывожу сводную статистику по данному признаку:"
   ]
  },
  {
   "cell_type": "code",
   "execution_count": null,
   "id": "a5355ce7-7e3e-4a81-9f38-7a1cea52062f",
   "metadata": {},
   "outputs": [],
   "source": [
    "print(data['NumWebVisitsMonth'].describe())"
   ]
  },
  {
   "cell_type": "markdown",
   "id": "8ff3358f-497d-49e0-ac89-04bac536f68c",
   "metadata": {},
   "source": [
    "- Половина пользователей посещает сайт 6 и более раз, что немного выше среднего, говорит о скошенности распределения.(50% = 6)\n",
    "- Есть покупатели которые вообще не заходят на сайт (min=0)\n",
    "- Стандартное отклонение (std) = 2.42 — есть умеренный разброс значений\n",
    "\n",
    "Посмотрим на распределение данных:"
   ]
  },
  {
   "cell_type": "code",
   "execution_count": null,
   "id": "ed9ef435-ddd6-4a4e-903b-8d021067e127",
   "metadata": {},
   "outputs": [],
   "source": [
    "# Вывожу гисторгамму распределения признака\n",
    "sns.histplot(data['NumWebVisitsMonth'], bins=30)\n",
    "plt.title('Распределение NumWebVisitsMonth')\n",
    "plt.show()"
   ]
  },
  {
   "cell_type": "markdown",
   "id": "aa5fb552-53d8-47f7-8b55-5987b07a582a",
   "metadata": {},
   "source": [
    "Гистограмма распределние указывает нам на несколько ключевых моментов:\n",
    "\n",
    "- Распределение ненормальное\n",
    "- Незначительное число покупателей посещают сайт очень часто( больше 10 раз). Что выглядит как аномалии\n",
    "- Основная масса пользователей посещает сайт от 1 до 8 раз"
   ]
  },
  {
   "cell_type": "markdown",
   "id": "30afb092-82ea-4578-83ef-fb5d1207a4ad",
   "metadata": {},
   "source": [
    "Применяю IQR функцию для удаления выбросов:"
   ]
  },
  {
   "cell_type": "code",
   "execution_count": null,
   "id": "9f341c03-ee7f-4608-a09e-c2fd216be800",
   "metadata": {},
   "outputs": [],
   "source": [
    "columns_to_clean = ['NumWebVisitsMonth'] \n",
    "\n",
    "for col in columns_to_clean:\n",
    "    original_shape = data.shape[0]\n",
    "    data = remove_outliers_iqr(data, col)\n",
    "    new_shape = data.shape[0]\n",
    "    print(f\"Удалено {original_shape - new_shape} выбросов из '{col}'.\")\n",
    "\n",
    "print(f\"\\nРазмер датасета без выбросов: {data.shape}\")"
   ]
  },
  {
   "cell_type": "code",
   "execution_count": null,
   "id": "e8ec4192-1c69-4253-8063-9b4f6500899c",
   "metadata": {},
   "outputs": [],
   "source": [
    "# Группировка по Response и вывод статистик \n",
    "stats = data.groupby('Response')['NumWebVisitsMonth'].describe()\n",
    "display(stats)"
   ]
  },
  {
   "cell_type": "code",
   "execution_count": null,
   "id": "f5849682-e27b-4b65-bcec-834dac4263db",
   "metadata": {},
   "outputs": [],
   "source": [
    "sns.boxplot(x='Response', y='NumWebVisitsMonth', data=data)\n",
    "plt.title('NumWebVisitsMonth по классам Response')\n",
    "plt.show()"
   ]
  },
  {
   "cell_type": "markdown",
   "id": "d47ccff9-995f-4591-b6c4-87e4f93caeab",
   "metadata": {},
   "source": [
    "Видим, что разница очень маленькая, почти нет отличий по центральным тенденциям:\n",
    "\n",
    "- Для группы с Response=1  разброс немного выше (std = 2.56 против 2.24) -->  распределения похожи, с незначительными отличиями.\n",
    "- Максимальные и минимальные значения в группах практически одинаковы -->  распределения похожи, с незначительными отличиями.\n",
    "- 25% тоже отличается незначительно между группами -->  распределения похожи, с незначительными отличиями.\n",
    "  \n",
    "Т.е. количество визитов в месяц почти не отличается между теми, кто ответил положительно и отрицательно, а значит, сам по себе признак NumWebVisitsMonth в таком виде слабо коррелирует с Response и может не быть сильным предиктором.\n",
    "\n",
    "Но, данный признак оставляю для  feature engineering"
   ]
  },
  {
   "cell_type": "markdown",
   "id": "04f72c9a-13e2-44ba-8c6c-72250d6a2cda",
   "metadata": {},
   "source": [
    "Переходим к следующему призкану - TotalAcceptedCmp.\n",
    "Данный признак показывает участие в предыдущих кампаниях."
   ]
  },
  {
   "cell_type": "code",
   "execution_count": null,
   "id": "903f6bba-8212-4038-9c8e-44f9eb91d92c",
   "metadata": {},
   "outputs": [],
   "source": [
    "#Сводная статистика по признаку\n",
    "print(data['TotalAcceptedCmp'].describe())"
   ]
  },
  {
   "cell_type": "markdown",
   "id": "8eaf0f5a-2290-40e3-9f05-73edc4849ce1",
   "metadata": {},
   "source": [
    "По сводной статистике видим в данных очень не сбалансированное распределение:\n",
    "\n",
    "- Большинство покупателей не принимали участия ни в одной кампании (75% = 0)\n",
    "\n",
    "- Лишь 25% принимали участие хотя  бы  в одной кампанию\n",
    "\n",
    "Т.е. признак не имеет непрерывного распределения. Это счетчик событий.\n",
    "\n",
    "Смотрим на распределение данных:\n",
    "                               "
   ]
  },
  {
   "cell_type": "code",
   "execution_count": null,
   "id": "902468fb-3df0-4e9b-bdac-bd950fe845b0",
   "metadata": {},
   "outputs": [],
   "source": [
    "# Вывожу гисторгамму распределения признака\n",
    "sns.histplot(data['TotalAcceptedCmp'], bins=30)\n",
    "plt.title('Распределение TotalAcceptedCmp')\n",
    "plt.show()"
   ]
  },
  {
   "cell_type": "code",
   "execution_count": null,
   "id": "7e8a7fd0-9e4f-4dcc-a7fa-f786cf3630ec",
   "metadata": {},
   "outputs": [],
   "source": [
    "# Группировка по Response и вывод статистик \n",
    "stats = data.groupby('Response')['TotalAcceptedCmp'].describe()\n",
    "display(stats)"
   ]
  },
  {
   "cell_type": "code",
   "execution_count": null,
   "id": "599fcd3d-47ee-4158-8cb2-cebdd1d7c22f",
   "metadata": {},
   "outputs": [],
   "source": [
    "sns.boxplot(x='Response', y='TotalAcceptedCmp', data=data) \n",
    "plt.title('TotalAcceptedCmp по группам Response')\n",
    "plt.show()"
   ]
  },
  {
   "cell_type": "markdown",
   "id": "689b976a-b4f9-46c9-b265-0bdf51a7c905",
   "metadata": {},
   "source": [
    "Данный график плохо отображает суть, т.к. большинство данных в группе Response = 0 сосредоточено вокруг 0. ((75% = 0), среднее значение = 0.179)\n",
    "\n",
    "В отличие от этого, группа Response = 1 имеет среднее значение 0.971 и более высокое стандартное отклонение (1.114), с более равномерным распределением (25% на 0, 50% на 1, 75% на 2, максимум на 4). \n",
    "\n",
    "Это приводит к более широкому ящику на графике.\n",
    "\n",
    "Поэтому для анализа влияние признака TotalAcceptedCmp на таргет, использую violin plot:"
   ]
  },
  {
   "cell_type": "code",
   "execution_count": null,
   "id": "d9828c64-5671-4381-9e61-0047b573b75f",
   "metadata": {},
   "outputs": [],
   "source": [
    "sns.violinplot(x='Response', y='TotalAcceptedCmp', data=data, inner='quartile')\n",
    "plt.title('Распределение TotalAcceptedCmp по группам Response (Violin Plot)')\n",
    "plt.xlabel('Response')\n",
    "plt.ylabel('TotalAcceptedCmp')\n",
    "plt.show()"
   ]
  },
  {
   "cell_type": "markdown",
   "id": "04bc2d6b-9064-4c03-a431-d3756c8ef074",
   "metadata": {},
   "source": [
    "Интерпретация графика violin plot:\n",
    "\n",
    "1.Группа Response = 0:\n",
    "\n",
    "- Большая часть данных сосредоточена около 0, что видно по широкой части \"скрипки\" внизу. Это подтверждает, что большинство значений в этой группе близки к 0.\n",
    "\n",
    "- Узкие участки выше показывают, что значения выше 1 встречаются реже, а максимум (около 4) является редким выбросом.\n",
    "\n",
    "- Распределение сильно скошено вправо, с высокой плотностью около 0\n",
    "\n",
    "2.Группа Response = 1:\n",
    "\n",
    "- Распределение более равномерное, с заметным увеличением значений от 0 до 2, что видно по более широкой форме \"скрипки\" в этом диапазоне.\n",
    "\n",
    "- Максимум также достигает 4, но распределение имеет более выраженный пик около 1, с постепенным спадом к более высоким значениям.\n",
    "\n",
    "- Плотность данных выше для значений от 0 до 2 по сравнению с группой Response = 0\n",
    "\n",
    "В целом, график демонстрирует, что TotalAcceptedCmp сильно различается между группами: Response = 0 чаще имеет низкие значения, а Response = 1 — более высокие и разнообразные."
   ]
  },
  {
   "cell_type": "markdown",
   "id": "4d679e4f-d0d8-43f4-a01c-318346585855",
   "metadata": {},
   "source": [
    "Изобразим данную зависимость при помощи столбчатой диаграммы:"
   ]
  },
  {
   "cell_type": "code",
   "execution_count": null,
   "id": "cf038edb-3142-4185-8a4a-53dda9683e5f",
   "metadata": {},
   "outputs": [],
   "source": [
    "# Группировка по TotalAcceptedCmp и расчет доли Response\n",
    "sns.barplot(x='TotalAcceptedCmp', y='Response', data=data)\n",
    "plt.title(\"Процент отклика по TotalAcceptedCmp\")\n",
    "plt.show()"
   ]
  },
  {
   "cell_type": "markdown",
   "id": "bbf9a195-d24f-4aca-905f-181ac9705ef9",
   "metadata": {},
   "source": [
    "Еще раз убедились в том, что с  увеличением числа принятых кампаний доля положительных откликов растет и это может свидетельствовать о положительной корреляции между признаками TotalAcceptedCmp и Response.\n",
    "\n",
    "В рамках исследовательского анализа посмотрим на взаимодействие TotalAcceptedCmp c Income:"
   ]
  },
  {
   "cell_type": "code",
   "execution_count": null,
   "id": "ffc6d06e-e9d0-4347-a8e2-61adcbb9ff58",
   "metadata": {},
   "outputs": [],
   "source": [
    "# Взаимосвязь с Income\n",
    "data.groupby('TotalAcceptedCmp')['Income'].mean().plot(kind='bar')\n",
    "plt.title(\"Средний Income по TotalAcceptedCmp\")\n",
    "plt.show()"
   ]
  },
  {
   "cell_type": "markdown",
   "id": "a85b0d27-4332-4928-9037-5f4318491f2d",
   "metadata": {},
   "source": [
    "С увеличением числа принятых кампаний (TotalAcceptedCmp) средний доход (Income) демонстрирует тенденцию к росту, что может указывать на положительную связь между активностью в кампаниях и уровнем дохода."
   ]
  },
  {
   "cell_type": "markdown",
   "id": "263457a8-2ed1-4105-b950-fd75964e3108",
   "metadata": {},
   "source": [
    "Общий вывод по анализу признака TotalAcceptedCmp:\n",
    "- В среднем чем выше доход клиента, тем больше кампаний он принял---> вовлечённость в маркетинг выше у платёжеспособной аудитории.\n",
    "- У клиентов, которые откликнулись, среднее значение TotalAcceptedCmp почти в 5 раз выше, чем у остальных.-->ранее откликнувшиеся на кампании клиенты более склонны к отклику в будущем.\n",
    "- Доход (Income) и TotalAcceptedCmp связаны\n",
    "\n",
    "Подводя итог по анализу и значимости признака TotalAcceptedCmp, можно смело сказать что практическая ценность данной перемнной высока для последуещего моделирования.\n",
    "Т.к. диапазон значений признака = [1;4], привожу данный признак к бинарному типу:"
   ]
  },
  {
   "cell_type": "code",
   "execution_count": null,
   "id": "42b8d782-79a7-403a-8699-b17def78bdc9",
   "metadata": {},
   "outputs": [],
   "source": [
    "# Новый признак откликался или нет вообще хоть на одну каманию \n",
    "data['AcceptedAnyCmp'] = (data['TotalAcceptedCmp'] > 0).astype(int)"
   ]
  },
  {
   "cell_type": "markdown",
   "id": "adf18564-cdcf-4f84-9646-41004ec4808d",
   "metadata": {},
   "source": [
    "Вывожу график с новым бинарным признаком AcceptedAnyCmp:"
   ]
  },
  {
   "cell_type": "code",
   "execution_count": null,
   "id": "566c3d9a-3ae5-48c3-9b89-0ef76951b17d",
   "metadata": {},
   "outputs": [],
   "source": [
    "# Столбчатая диаграмма зависимости от AcceptedAnyCmp\n",
    "sns.barplot(x='AcceptedAnyCmp', y='Response', data=data)\n",
    "plt.title('Средний отклик (Response) в зависимости от участия в кампаниях')\n",
    "plt.xlabel('Участвовал хотя бы в одной кампании (AcceptedAnyCmp)')\n",
    "plt.ylabel('Среднее значение Response')\n",
    "plt.ylim(0, 1)\n",
    "plt.show()"
   ]
  },
  {
   "cell_type": "markdown",
   "id": "a29fe399-46de-450b-ac6d-6029964c6c3f",
   "metadata": {},
   "source": [
    "С помощью кросс-таблицы вывожу численную информацию по графику (Сколько людей с AcceptedAnyCmp = 0 дали отклик (Response = 1) и сколько — нет):"
   ]
  },
  {
   "cell_type": "code",
   "execution_count": null,
   "id": "bad10236-8aa2-4f25-9f81-168d27665bf5",
   "metadata": {},
   "outputs": [],
   "source": [
    "# Кросс-таблица \n",
    "cross_tab = pd.crosstab(data['AcceptedAnyCmp'], data['Response'], margins=True)\n",
    "print(cross_tab)"
   ]
  },
  {
   "cell_type": "markdown",
   "id": "c3b32953-c6ff-4b9d-9337-84142e1ba143",
   "metadata": {},
   "source": [
    "По графику и кросс-таблице видим сильную зависимость между участием и отклико-Отклик в 5 раз выше у тех, кто участвовал хотя бы в одной кампании."
   ]
  },
  {
   "cell_type": "markdown",
   "id": "7fd208d2-cc30-49a3-a521-1e234fc9d79a",
   "metadata": {},
   "source": [
    "Вывожу сводную статистику по следующему числовому признаку - Recency:"
   ]
  },
  {
   "cell_type": "code",
   "execution_count": null,
   "id": "4381c019-7b64-4d3e-bcdb-0acda9900aeb",
   "metadata": {},
   "outputs": [],
   "source": [
    "#Сводная статистика по признаку\n",
    "print(data['Recency'].describe())"
   ]
  },
  {
   "cell_type": "markdown",
   "id": "f97931ae-fcf3-4c9c-8cf3-dae94dacda0c",
   "metadata": {},
   "source": [
    "- Медиана практически совпадает со средним значением, что указывает на симметричное распределение\n",
    "- Аномалий по данным не наблюдаю\n",
    "\n",
    "Вывожу график распределения:"
   ]
  },
  {
   "cell_type": "code",
   "execution_count": null,
   "id": "117d8efa-0c19-47ac-b96e-0ae2529490a2",
   "metadata": {},
   "outputs": [],
   "source": [
    "sns.histplot(data['Recency'], bins=30)\n",
    "plt.title('Распределение Recency')\n",
    "plt.xlabel('Recency (дней с последнего контакта)')\n",
    "plt.show()"
   ]
  },
  {
   "cell_type": "markdown",
   "id": "e47585f4-3c22-47ec-8aca-333737017542",
   "metadata": {},
   "source": [
    "Данный график подтверждает мои предположения о симметричном распределении.\n",
    "\n",
    "Вывожу bpxplot чтобы сранить группы по Respopnse:"
   ]
  },
  {
   "cell_type": "code",
   "execution_count": null,
   "id": "a5d9cc89-375b-4022-a08b-ce0f6ab70f9d",
   "metadata": {},
   "outputs": [],
   "source": [
    "sns.boxplot(x='Response', y='Recency', data=data) \n",
    "plt.title('Recency по группам Response')\n",
    "plt.show()"
   ]
  },
  {
   "cell_type": "code",
   "execution_count": null,
   "id": "30b838fb-6f05-41ba-8075-50d37ebc20ea",
   "metadata": {},
   "outputs": [],
   "source": [
    "data.groupby('Response')['Recency'].describe()"
   ]
  },
  {
   "cell_type": "markdown",
   "id": "eef5222a-4ae8-4ac0-8b00-02a91e7de9ea",
   "metadata": {},
   "source": [
    "Покупатели, которые откликнулись (Response = 1), в среднем имеют меньшее значение Recency — около 35 дней, в то время как покупатели, которые не откликнулись (Response = 0), имеют среднее значение около 51 дня.\n",
    "\n",
    "Это говорит о том, что покупатели, недавно взаимодействовавшие с компанией, чаще откликаются на предложения.\n",
    "\n",
    "Медианные значения подтверждают эту тенденцию: у откликнувшихся медиана Recency составляет 29.5 дней, а у остальных — 52 дня.\n",
    "\n",
    "Следовательно, Recency является важным индикатором «теплоты» клиента — чем меньше прошло времени с последнего взаимодействия, тем выше вероятность отклика."
   ]
  },
  {
   "cell_type": "markdown",
   "id": "aad0f058-617f-4e25-84e2-294898b9523b",
   "metadata": {},
   "source": [
    "Посмотрим на связь между «теплотой» покупателя (то есть его активностью и постоянством) и откликом на предложение.\n",
    "\n",
    "Для этого разобьём признак Recency на квантили и проанализируем, какая из полученных групп чаще откликается (Response = 1).:"
   ]
  },
  {
   "cell_type": "code",
   "execution_count": null,
   "id": "5792bbc8-d8ff-4579-944f-6852c7d6ed37",
   "metadata": {},
   "outputs": [],
   "source": [
    "#Разбивка Recency на квантили \n",
    "data['RecencyGroup'] = pd.qcut(data['Recency'], q=4, labels=['Очень недавние', 'Недавние', 'Средние', 'Давние'])"
   ]
  },
  {
   "cell_type": "code",
   "execution_count": null,
   "id": "d967f821-0a01-49d5-bc7b-858d918f8201",
   "metadata": {},
   "outputs": [],
   "source": [
    "#Cредний отклик по группам\n",
    "recency_response = data.groupby('RecencyGroup')['Response'].mean().reset_index()\n",
    "print(recency_response)"
   ]
  },
  {
   "cell_type": "code",
   "execution_count": null,
   "id": "84fb89cf-9b6e-41d4-9b7e-29e0a67f1cb5",
   "metadata": {},
   "outputs": [],
   "source": [
    "sns.barplot(x='RecencyGroup', y='Response', data=recency_response)\n",
    "plt.title('Доля откликнувшихся по группам Recency')\n",
    "plt.ylabel('Доля Response = 1')\n",
    "plt.xlabel('Группа Recency')\n",
    "plt.ylim(0, 1)\n",
    "plt.show()"
   ]
  },
  {
   "cell_type": "markdown",
   "id": "a4b15cdd-d0d8-49fc-a7e3-131fae9f579b",
   "metadata": {},
   "source": [
    "Признак Recency — информативен и значимо отличается между классами Response. \n",
    "\n",
    "Покупатели, которые недавно взаимодействовали с компанией, в несколько раз чаще откликаются на предложения. Он обязательно должен использоваться в модели."
   ]
  },
  {
   "cell_type": "markdown",
   "id": "b5367142-66e2-4f29-b7a4-390d1388295f",
   "metadata": {},
   "source": [
    "Построим матрицу корреляции для ключевых числовых признаков, включая логарифмы расходов и дохода, возраст, активность клиента, а также целевую переменную Response.\n",
    "\n",
    "Это позволит выявить линейные взаимосвязи и понять, какие из признаков могут быть потенциально информативны для предсказания отклика."
   ]
  },
  {
   "cell_type": "code",
   "execution_count": null,
   "id": "1b5e8aa5-676e-45a7-9373-c67b48e30296",
   "metadata": {},
   "outputs": [],
   "source": [
    "#Создаю список с числовыми переменными\n",
    "corr_features = ['IncomeLog', 'TotalSpentLog', 'TotalPurchaseActivity', \n",
    "                 'Age', 'NumWebVisitsMonth', 'Recency', 'Response']\n",
    "\n",
    "corr_matrix = data[corr_features].corr()\n",
    "\n",
    "plt.figure(figsize=(10, 8))\n",
    "sns.heatmap(corr_matrix, annot=True, cmap='coolwarm', fmt=\".2f\", linewidths=0.5)\n",
    "plt.title('Матрица корреляции признаков и Response')\n",
    "plt.show()"
   ]
  },
  {
   "cell_type": "markdown",
   "id": "4edd6e7a-5fa6-4af5-b8ca-2edaa086859e",
   "metadata": {},
   "source": [
    "Целевая переменная Response демонстрирует умеренную положительную корреляцию с признаками:\n",
    "- TotalSpentLog \n",
    "- TotalPurchaseActivity\n",
    "- IncomeLog \n",
    "что может свидетельствовать о том, что более платежеспособные и активные клиенты чаще откликаются на предложения\n",
    "\n",
    "Сильная корреляция наблюдается:\n",
    "-между TotalSpentLog и TotalPurchaseActivity \n",
    "-между IncomeLog и TotalSpentLog \n",
    "\n",
    "Recency имеет отрицательную связь с тагретом, что логично. Чем меньше времени прошло с последней покупки, тем выше вероятность отклика\n",
    "\n",
    "Для построения модели буду учитывать следующие признаки \n",
    "- TotalSpentLog - т.к. данный признак отражает сумму трат + данный признак сильнее всего коррелирует с таргетом\n",
    "- TotalPurchaseActivity - исключаю из-за сильной корреляции\n",
    "- IncomeLog - попробую обучить с этим признаком и без него.\n",
    "- Recency\n",
    "- Age\n",
    "\n",
    "Слабо коррелирующие признаки оставляю т.к. даже слабо коррелирующий признак может стать информативным в комбинации с другими. "
   ]
  },
  {
   "cell_type": "markdown",
   "id": "6fc4bb63-1a3a-4e93-8b03-f192fb989bba",
   "metadata": {},
   "source": [
    "### Анализ категориальных признаков"
   ]
  },
  {
   "cell_type": "markdown",
   "id": "666b0063-a27f-4043-8bda-bf9019c20eea",
   "metadata": {},
   "source": [
    "На данном этапе перехожу к анализу кагегориальных признаков, а именно:\n",
    "\n",
    "-HasChildren (наличие детей)\n",
    "\n",
    "-MaritalFlag (семейное положение)\n",
    "\n",
    "-HigherEducation (наличие высшего образования)\n",
    "\n",
    "-IsHighIncome (наличие высокого дохода)\n",
    "\n",
    "-AcceptedAnyCmp (участие в предыдущих кампаниях)"
   ]
  },
  {
   "cell_type": "code",
   "execution_count": null,
   "id": "0786f39c-ee0a-4c6e-84cf-84909a6ea2f1",
   "metadata": {},
   "outputs": [],
   "source": [
    "fig, axes = plt.subplots(nrows=1, ncols=5, figsize=(20, 4))\n",
    "fig.tight_layout(pad=4)\n",
    "\n",
    "cats = ['HasChildren', 'MaritalFlag', 'HigherEducation', 'IsHighIncome', 'AcceptedAnyCmp']\n",
    "\n",
    "for i, col in enumerate(cats):\n",
    "    sns.barplot(x=col, y='Response', data=data, estimator=np.mean, ax=axes[i])\n",
    "    axes[i].set_title(f'{col}', fontsize=12)\n",
    "    axes[i].set_ylabel('Отклик (Response)', fontsize=10)\n",
    "    axes[i].set_xlabel('')\n",
    "\n",
    "plt.suptitle('Категориальные признаки и средний отклик', fontsize=16)\n",
    "plt.tight_layout(rect=[0, 0, 1, 0.95])\n",
    "plt.show()"
   ]
  },
  {
   "cell_type": "markdown",
   "id": "6102ff01-cfac-4a56-bad8-c95a1a30e116",
   "metadata": {},
   "source": [
    "Вывод по графикам:\n",
    "- HasChildren(наличие детей)\n",
    "График показывает, что средний Response значительно отличается между группами с детьми  и без детей. \n",
    "Доля отличия между этими группами существенна, что может указывать на важность наличия детей как фактора, влияющего на отклик.\n",
    "\n",
    "- MaritalFlag(семейное положение)\n",
    "Наблюдается заметная разница в среднем Response между группами с разным семейным положением. \n",
    "Доля отличия также высока, что позволяет предположить, что семейное положение играет роль в уровне отклика.\n",
    "\n",
    "- HigherEducation\n",
    "График демонстрирует, что у людей с высшим образованием  средний Response выше, чем у тех, у кого его нет. \n",
    "Разница между группами выражена, но менее значительна по сравнению с другими факторами. \n",
    "Это может свидетельствовать о том, что высшее образование оказывает умеренное влияние на отклик.\n",
    "\n",
    "- IsHighIncome\n",
    "По графику видно, что покупатели с высоким доходом  демонстрируют более высокую долю отклика по сравнению с группой с низким доходом. \n",
    "\n",
    "- AccepteAnyCmp\n",
    "Покупатели, участвовавшие в предыдущих маркетинговых кампаниях, демонстрируют значительно более высокий уровень отклика.\n",
    "Это может указывать на то, что предыдущий положительный опыт взаимодействия с компанией способствует лояльности и готовности откликаться на маркетинговые предложения."
   ]
  },
  {
   "cell_type": "markdown",
   "id": "c36a5e3f-2b22-458c-86f9-300ff73aad26",
   "metadata": {},
   "source": [
    "#### Обработка  дубликатов"
   ]
  },
  {
   "cell_type": "code",
   "execution_count": null,
   "id": "7579e08e-0376-4644-a74e-e2e55e12ec24",
   "metadata": {},
   "outputs": [],
   "source": [
    "df_model = data.copy()"
   ]
  },
  {
   "cell_type": "code",
   "execution_count": null,
   "id": "36ca3a05-91dc-45ee-a88a-d62f4c4b8f02",
   "metadata": {},
   "outputs": [],
   "source": [
    "to_drop = ['TotalAcceptedCmp', 'RecencyGroup', 'IncomeInterval', \n",
    "           'IncomeGroup', 'TotalPurchaseActivity', 'Income', 'TotalSpent']\n",
    "df_model.drop(to_drop, axis=1, inplace=True)"
   ]
  },
  {
   "cell_type": "code",
   "execution_count": null,
   "id": "53cfebb8-c814-4b57-a5ec-a69641467152",
   "metadata": {},
   "outputs": [],
   "source": [
    "#Вывожу дубликаты\n",
    "duplicates = df_model[df_model.duplicated(keep='first')]"
   ]
  },
  {
   "cell_type": "code",
   "execution_count": null,
   "id": "a1251359-4c97-4b7a-9107-0226df703c5a",
   "metadata": {},
   "outputs": [],
   "source": [
    "print(f\"Найдено дубликатов: {duplicates.shape[0]}\")"
   ]
  },
  {
   "cell_type": "code",
   "execution_count": null,
   "id": "3a42093a-3bac-4943-9ac3-768e056acd90",
   "metadata": {},
   "outputs": [],
   "source": [
    "total_duplicates = df_model.duplicated(keep=False).sum()\n",
    "print(f\"Всего полных дубликатов (включая все копии): {total_duplicates}\")"
   ]
  },
  {
   "cell_type": "markdown",
   "id": "73ca84b3-0ed2-4d67-b5c3-6ca1fe96dec1",
   "metadata": {},
   "source": [
    "### Сохранение обработанных данных в файл"
   ]
  },
  {
   "cell_type": "code",
   "execution_count": 101,
   "id": "0c75cbe6-6c10-4b1d-9281-baf93c7c17ef",
   "metadata": {},
   "outputs": [
    {
     "name": "stdout",
     "output_type": "stream",
     "text": [
      "Сохранено в: /home/alorozhkov/jup/ml_projects/Marketing_Response/data/processed/MK_PROCESSED_EDA_DATA.csv\n"
     ]
    }
   ],
   "source": [
    "# Сохранение данных в файл\n",
    "df_model.to_csv(processed_eda_data, index = False)\n",
    "print(f'Сохранено в: {processed_eda_data}')"
   ]
  }
 ],
 "metadata": {
  "kernelspec": {
   "display_name": "Python (aut_ml)",
   "language": "python",
   "name": "auto_ml_venv_kernel"
  },
  "language_info": {
   "codemirror_mode": {
    "name": "ipython",
    "version": 3
   },
   "file_extension": ".py",
   "mimetype": "text/x-python",
   "name": "python",
   "nbconvert_exporter": "python",
   "pygments_lexer": "ipython3",
   "version": "3.10.12"
  }
 },
 "nbformat": 4,
 "nbformat_minor": 5
}

{
 "cells": [
  {
   "cell_type": "code",
   "execution_count": 29,
   "id": "4d586b72-a194-4cd9-a326-fb15fda06fb1",
   "metadata": {},
   "outputs": [],
   "source": [
    "# Стандартная библиотека\n",
    "import os\n",
    "from getpass import getpass\n",
    "\n",
    "import time\n",
    "from tqdm import tqdm\n",
    "\n",
    "import warnings\n",
    "warnings.filterwarnings(\"ignore\", module=\"matplotlib.font_manager\")\n",
    "\n",
    "import numpy as np\n",
    "np.random.seed(42)\n",
    "\n",
    "import pandas as pd\n",
    "pd.set_option('display.max_rows', 500)\n",
    "pd.set_option('display.max_columns', 500)\n",
    "pd.set_option('display.width', 1000)\n",
    "pd.set_option('display.max_colwidth', None)\n",
    "pd.options.display.float_format = lambda x: ('%.12f' % x).rstrip('0').rstrip('.')\n",
    "\n",
    "#Визуализация\n",
    "import matplotlib.pyplot as plt\n",
    "import seaborn as sns\n",
    "from matplotlib import font_manager\n",
    "font_manager.findSystemFonts(fontpaths=None, fontext='ttf')\n",
    "plt.rcParams['font.family'] = 'DejaVu Sans'\n",
    "\n",
    "#MLFlow\n",
    "import mlflow\n",
    "mlflow.set_tracking_uri(f'http://127.0.0.1:5000/')\n",
    "mlflow.set_experiment(\"Marketing_Response\")\n",
    "\n",
    "#AutoML\n",
    "from pycaret.classification import *\n",
    "\n",
    "#Стат тесты\n",
    "from scipy.stats import ttest_ind\n",
    "from scipy.stats import chi2_contingency\n",
    "from scipy.stats import mannwhitneyu\n",
    "from scipy.stats import norm\n",
    "from scipy.stats import probplot\n",
    "from scipy.stats import shapiro\n",
    "from scipy.stats import stats\n",
    "from statsmodels.tools.tools import add_constant\n",
    "from statsmodels.stats.outliers_influence import variance_inflation_factor\n",
    "\n",
    "#Нормализация и балансировка данных\n",
    "from imblearn.over_sampling import SMOTE\n",
    "from sklearn.preprocessing import LabelEncoder, MinMaxScaler\n",
    "\n",
    "#Подбор гиперпарамметров\n",
    "from sklearn.model_selection import (\n",
    "    GridSearchCV, StratifiedKFold, train_test_split\n",
    ")\n",
    "\n",
    "\n",
    "#Обучение \n",
    "from sklearn.linear_model import RidgeClassifier, LogisticRegression\n",
    "from catboost import CatBoostClassifier\n",
    "from sklearn.metrics import classification_report\n",
    "from sklearn.dummy import DummyClassifier\n",
    "\n",
    "#Метрики\n",
    "from sklearn.metrics import (\n",
    "    average_precision_score, confusion_matrix, ConfusionMatrixDisplay,\n",
    "    f1_score, precision_score, recall_score, roc_auc_score,\n",
    "    PrecisionRecallDisplay, RocCurveDisplay\n",
    ")\n",
    "\n",
    "# Отбор признаков\n",
    "import shap\n",
    "from sklearn.feature_selection import SelectKBest, f_classif"
   ]
  },
  {
   "cell_type": "markdown",
   "id": "0272527f-d1d4-424a-adc6-4bdcd741458e",
   "metadata": {},
   "source": [
    "### Пути и настройки"
   ]
  },
  {
   "cell_type": "code",
   "execution_count": 30,
   "id": "5022f141-5c38-48e9-aeb9-379d818fd412",
   "metadata": {},
   "outputs": [],
   "source": [
    "#Пути к данным\n",
    "raw_data = '/home/alorozhkov/jup/ml_projects/Marketing_Response/data/raw/MK_RAW_DATA.csv'\n",
    "processed_data = '/home/alorozhkov/jup/ml_projects/Marketing_Response/data/processed/MK_PROCESSED_DATA.csv'"
   ]
  },
  {
   "cell_type": "code",
   "execution_count": 31,
   "id": "61848a25-76ba-4ecd-bd7c-da16826ce003",
   "metadata": {},
   "outputs": [
    {
     "data": {
      "text/html": [
       "<div>\n",
       "<style scoped>\n",
       "    .dataframe tbody tr th:only-of-type {\n",
       "        vertical-align: middle;\n",
       "    }\n",
       "\n",
       "    .dataframe tbody tr th {\n",
       "        vertical-align: top;\n",
       "    }\n",
       "\n",
       "    .dataframe thead th {\n",
       "        text-align: right;\n",
       "    }\n",
       "</style>\n",
       "<table border=\"1\" class=\"dataframe\">\n",
       "  <thead>\n",
       "    <tr style=\"text-align: right;\">\n",
       "      <th></th>\n",
       "      <th>ID</th>\n",
       "      <th>Year_Birth</th>\n",
       "      <th>Education</th>\n",
       "      <th>Marital_Status</th>\n",
       "      <th>Income</th>\n",
       "      <th>Kidhome</th>\n",
       "      <th>Teenhome</th>\n",
       "      <th>Dt_Customer</th>\n",
       "      <th>Recency</th>\n",
       "      <th>MntWines</th>\n",
       "      <th>MntFruits</th>\n",
       "      <th>MntMeatProducts</th>\n",
       "      <th>MntFishProducts</th>\n",
       "      <th>MntSweetProducts</th>\n",
       "      <th>MntGoldProds</th>\n",
       "      <th>NumDealsPurchases</th>\n",
       "      <th>NumWebPurchases</th>\n",
       "      <th>NumCatalogPurchases</th>\n",
       "      <th>NumStorePurchases</th>\n",
       "      <th>NumWebVisitsMonth</th>\n",
       "      <th>AcceptedCmp3</th>\n",
       "      <th>AcceptedCmp4</th>\n",
       "      <th>AcceptedCmp5</th>\n",
       "      <th>AcceptedCmp1</th>\n",
       "      <th>AcceptedCmp2</th>\n",
       "      <th>Complain</th>\n",
       "      <th>Z_CostContact</th>\n",
       "      <th>Z_Revenue</th>\n",
       "      <th>Response</th>\n",
       "    </tr>\n",
       "  </thead>\n",
       "  <tbody>\n",
       "    <tr>\n",
       "      <th>0</th>\n",
       "      <td>5524</td>\n",
       "      <td>1957</td>\n",
       "      <td>Graduation</td>\n",
       "      <td>Single</td>\n",
       "      <td>58138</td>\n",
       "      <td>0</td>\n",
       "      <td>0</td>\n",
       "      <td>04-09-2012</td>\n",
       "      <td>58</td>\n",
       "      <td>635</td>\n",
       "      <td>88</td>\n",
       "      <td>546</td>\n",
       "      <td>172</td>\n",
       "      <td>88</td>\n",
       "      <td>88</td>\n",
       "      <td>3</td>\n",
       "      <td>8</td>\n",
       "      <td>10</td>\n",
       "      <td>4</td>\n",
       "      <td>7</td>\n",
       "      <td>0</td>\n",
       "      <td>0</td>\n",
       "      <td>0</td>\n",
       "      <td>0</td>\n",
       "      <td>0</td>\n",
       "      <td>0</td>\n",
       "      <td>3</td>\n",
       "      <td>11</td>\n",
       "      <td>1</td>\n",
       "    </tr>\n",
       "    <tr>\n",
       "      <th>1</th>\n",
       "      <td>2174</td>\n",
       "      <td>1954</td>\n",
       "      <td>Graduation</td>\n",
       "      <td>Single</td>\n",
       "      <td>46344</td>\n",
       "      <td>1</td>\n",
       "      <td>1</td>\n",
       "      <td>08-03-2014</td>\n",
       "      <td>38</td>\n",
       "      <td>11</td>\n",
       "      <td>1</td>\n",
       "      <td>6</td>\n",
       "      <td>2</td>\n",
       "      <td>1</td>\n",
       "      <td>6</td>\n",
       "      <td>2</td>\n",
       "      <td>1</td>\n",
       "      <td>1</td>\n",
       "      <td>2</td>\n",
       "      <td>5</td>\n",
       "      <td>0</td>\n",
       "      <td>0</td>\n",
       "      <td>0</td>\n",
       "      <td>0</td>\n",
       "      <td>0</td>\n",
       "      <td>0</td>\n",
       "      <td>3</td>\n",
       "      <td>11</td>\n",
       "      <td>0</td>\n",
       "    </tr>\n",
       "  </tbody>\n",
       "</table>\n",
       "</div>"
      ],
      "text/plain": [
       "     ID  Year_Birth   Education Marital_Status  Income  Kidhome  Teenhome Dt_Customer  Recency  MntWines  MntFruits  MntMeatProducts  MntFishProducts  MntSweetProducts  MntGoldProds  NumDealsPurchases  NumWebPurchases  NumCatalogPurchases  NumStorePurchases  NumWebVisitsMonth  AcceptedCmp3  AcceptedCmp4  AcceptedCmp5  AcceptedCmp1  AcceptedCmp2  Complain  Z_CostContact  Z_Revenue  Response\n",
       "0  5524        1957  Graduation         Single   58138        0         0  04-09-2012       58       635         88              546              172                88            88                  3                8                   10                  4                  7             0             0             0             0             0         0              3         11         1\n",
       "1  2174        1954  Graduation         Single   46344        1         1  08-03-2014       38        11          1                6                2                 1             6                  2                1                    1                  2                  5             0             0             0             0             0         0              3         11         0"
      ]
     },
     "execution_count": 31,
     "metadata": {},
     "output_type": "execute_result"
    }
   ],
   "source": [
    "#Загрузка данных\n",
    "df = pd.read_csv('/home/alorozhkov/jup/ml_projects/Marketing_Response/data/raw/MK_RAW_DATA.csv', sep='\\t')\n",
    "df.head(2)"
   ]
  },
  {
   "cell_type": "markdown",
   "id": "3d89e76a-29f2-4b6d-b20d-566643381fec",
   "metadata": {},
   "source": [
    "### Первичная очистка"
   ]
  },
  {
   "cell_type": "code",
   "execution_count": 32,
   "id": "83a9dcd1-c26b-4193-b35c-62b11d1fc4cc",
   "metadata": {},
   "outputs": [
    {
     "data": {
      "text/plain": [
       "(2240, 29)"
      ]
     },
     "execution_count": 32,
     "metadata": {},
     "output_type": "execute_result"
    }
   ],
   "source": [
    "#Проверка размера данных\n",
    "df.shape"
   ]
  },
  {
   "cell_type": "code",
   "execution_count": 33,
   "id": "5646a514-55fe-4e75-9474-6c015f2ebbc0",
   "metadata": {},
   "outputs": [
    {
     "name": "stdout",
     "output_type": "stream",
     "text": [
      "<class 'pandas.core.frame.DataFrame'>\n",
      "RangeIndex: 2240 entries, 0 to 2239\n",
      "Data columns (total 29 columns):\n",
      " #   Column               Non-Null Count  Dtype  \n",
      "---  ------               --------------  -----  \n",
      " 0   ID                   2240 non-null   int64  \n",
      " 1   Year_Birth           2240 non-null   int64  \n",
      " 2   Education            2240 non-null   object \n",
      " 3   Marital_Status       2240 non-null   object \n",
      " 4   Income               2216 non-null   float64\n",
      " 5   Kidhome              2240 non-null   int64  \n",
      " 6   Teenhome             2240 non-null   int64  \n",
      " 7   Dt_Customer          2240 non-null   object \n",
      " 8   Recency              2240 non-null   int64  \n",
      " 9   MntWines             2240 non-null   int64  \n",
      " 10  MntFruits            2240 non-null   int64  \n",
      " 11  MntMeatProducts      2240 non-null   int64  \n",
      " 12  MntFishProducts      2240 non-null   int64  \n",
      " 13  MntSweetProducts     2240 non-null   int64  \n",
      " 14  MntGoldProds         2240 non-null   int64  \n",
      " 15  NumDealsPurchases    2240 non-null   int64  \n",
      " 16  NumWebPurchases      2240 non-null   int64  \n",
      " 17  NumCatalogPurchases  2240 non-null   int64  \n",
      " 18  NumStorePurchases    2240 non-null   int64  \n",
      " 19  NumWebVisitsMonth    2240 non-null   int64  \n",
      " 20  AcceptedCmp3         2240 non-null   int64  \n",
      " 21  AcceptedCmp4         2240 non-null   int64  \n",
      " 22  AcceptedCmp5         2240 non-null   int64  \n",
      " 23  AcceptedCmp1         2240 non-null   int64  \n",
      " 24  AcceptedCmp2         2240 non-null   int64  \n",
      " 25  Complain             2240 non-null   int64  \n",
      " 26  Z_CostContact        2240 non-null   int64  \n",
      " 27  Z_Revenue            2240 non-null   int64  \n",
      " 28  Response             2240 non-null   int64  \n",
      "dtypes: float64(1), int64(25), object(3)\n",
      "memory usage: 507.6+ KB\n"
     ]
    }
   ],
   "source": [
    "#Смотрю тип данных \n",
    "df.info()"
   ]
  },
  {
   "cell_type": "code",
   "execution_count": 34,
   "id": "e377c3d9-bf3b-4d8f-b86d-2224cfa15da1",
   "metadata": {},
   "outputs": [
    {
     "data": {
      "text/plain": [
       "0"
      ]
     },
     "execution_count": 34,
     "metadata": {},
     "output_type": "execute_result"
    }
   ],
   "source": [
    "#Cмотрю дубликаты \n",
    "df.duplicated().sum()"
   ]
  },
  {
   "cell_type": "code",
   "execution_count": 35,
   "id": "cf5a7eca-e50b-4459-9387-a5c27699733c",
   "metadata": {},
   "outputs": [
    {
     "data": {
      "text/plain": [
       "ID                      0\n",
       "Year_Birth              0\n",
       "Education               0\n",
       "Marital_Status          0\n",
       "Income                 24\n",
       "Kidhome                 0\n",
       "Teenhome                0\n",
       "Dt_Customer             0\n",
       "Recency                 0\n",
       "MntWines                0\n",
       "MntFruits               0\n",
       "MntMeatProducts         0\n",
       "MntFishProducts         0\n",
       "MntSweetProducts        0\n",
       "MntGoldProds            0\n",
       "NumDealsPurchases       0\n",
       "NumWebPurchases         0\n",
       "NumCatalogPurchases     0\n",
       "NumStorePurchases       0\n",
       "NumWebVisitsMonth       0\n",
       "AcceptedCmp3            0\n",
       "AcceptedCmp4            0\n",
       "AcceptedCmp5            0\n",
       "AcceptedCmp1            0\n",
       "AcceptedCmp2            0\n",
       "Complain                0\n",
       "Z_CostContact           0\n",
       "Z_Revenue               0\n",
       "Response                0\n",
       "dtype: int64"
      ]
     },
     "execution_count": 35,
     "metadata": {},
     "output_type": "execute_result"
    }
   ],
   "source": [
    "#Проверка пропусков\n",
    "df.isnull().sum()"
   ]
  },
  {
   "cell_type": "markdown",
   "id": "1e1ff121-602f-4f5e-9f71-d909254c131d",
   "metadata": {},
   "source": [
    "### Анализ и обработка пропусков"
   ]
  },
  {
   "cell_type": "markdown",
   "id": "13858ffd-c75b-4a52-8203-227057c11153",
   "metadata": {},
   "source": [
    "Т.к. на доход человека образование оказывает непосредственное влияние, я группирую данные по Education и заполняю пропуски медианным значением по этому столбцу. "
   ]
  },
  {
   "cell_type": "code",
   "execution_count": 36,
   "id": "96ed766d-b769-497c-aca8-a02df449e8b8",
   "metadata": {},
   "outputs": [],
   "source": [
    "# #Группирую по Education и заполняю NaN медианным значением по Education\n",
    "df_2 = df.copy()\n",
    "df_2['Income'] = df_2.groupby('Education')['Income'].transform(\n",
    "    lambda x: x.fillna(x.median())\n",
    ")"
   ]
  },
  {
   "cell_type": "markdown",
   "id": "79f73f2f-bc27-4d98-b773-5d7896b49b34",
   "metadata": {},
   "source": [
    "Теперь сравню распределение до и после группировки по Education"
   ]
  },
  {
   "cell_type": "code",
   "execution_count": 37,
   "id": "4f41668d-0f28-44fd-954a-4b7686677adc",
   "metadata": {},
   "outputs": [
    {
     "data": {
      "image/png": "[encoded data removed]",
      "text/plain": [
       "<Figure size 1400x500 with 2 Axes>"
      ]
     },
     "metadata": {},
     "output_type": "display_data"
    }
   ],
   "source": [
    "fig, axes = plt.subplots(1, 2, figsize=(14, 5))\n",
    "\n",
    "sns.histplot(df['Income'], kde=True, ax=axes[0], color='skyblue')\n",
    "axes[0].set_title('Распределение с NaN значениями')\n",
    "axes[0].set_xlabel('Income')\n",
    "\n",
    "sns.histplot(df['Income'], kde=True, ax=axes[1], color='mediumorchid')\n",
    "axes[1].set_title('Распределение после заполнения NaN медианным значением по Education')\n",
    "axes[1].set_xlabel('Income')\n",
    "\n",
    "plt.tight_layout()\n",
    "plt.show()"
   ]
  },
  {
   "cell_type": "markdown",
   "id": "461252d3-e6ca-4e9b-af5a-d16c106689f6",
   "metadata": {},
   "source": [
    "Сравнивая полученные пезультаты видим, что график с Nan значениями практически не отличается от графика с группировкой и заполнением пропусков по Education.\n",
    "Т.к. пропусков не много и они особо не повлияют на датасет при удалении - удаляю пропуски."
   ]
  },
  {
   "cell_type": "code",
   "execution_count": 38,
   "id": "a777ce44-5d05-42d8-ba46-7fcf640dfb11",
   "metadata": {},
   "outputs": [],
   "source": [
    "#Удаляю NaN значения из df\n",
    "df = df.dropna(subset=['Income'])"
   ]
  },
  {
   "cell_type": "markdown",
   "id": "38271a30-f225-404c-9380-5ab0f8654245",
   "metadata": {},
   "source": [
    "### Распределение таргета"
   ]
  },
  {
   "cell_type": "code",
   "execution_count": 39,
   "id": "36192ce0-4938-432f-9f3d-82b766fc2b14",
   "metadata": {},
   "outputs": [
    {
     "data": {
      "image/png": "[encoded data removed]",
      "text/plain": [
       "<Figure size 800x550 with 1 Axes>"
      ]
     },
     "metadata": {},
     "output_type": "display_data"
    }
   ],
   "source": [
    "#Распределение таргета\n",
    "df['Response'].value_counts(normalize=True).plot(kind='bar')\n",
    "plt.title('Распределение таргета Response')\n",
    "plt.show()"
   ]
  },
  {
   "cell_type": "markdown",
   "id": "bcf3eeef-be11-4b4a-b7b5-f142f6d5f3d7",
   "metadata": {},
   "source": [
    "### Сохранение обработанных данных"
   ]
  },
  {
   "cell_type": "code",
   "execution_count": 40,
   "id": "646407d0-43ad-47d7-bb2c-5bcef7aeffc1",
   "metadata": {},
   "outputs": [],
   "source": [
    "#Копирую датасет в новую переменную для последующей работы \n",
    "data = df.copy()"
   ]
  },
  {
   "cell_type": "code",
   "execution_count": 41,
   "id": "35670382-9ed6-4351-9024-5d7f2372eb04",
   "metadata": {},
   "outputs": [
    {
     "data": {
      "text/plain": [
       "(2216, 29)"
      ]
     },
     "execution_count": 41,
     "metadata": {},
     "output_type": "execute_result"
    }
   ],
   "source": [
    "data.shape"
   ]
  },
  {
   "cell_type": "code",
   "execution_count": 42,
   "id": "4c92e5ec-b770-40b8-8425-c391b3510373",
   "metadata": {},
   "outputs": [
    {
     "name": "stdout",
     "output_type": "stream",
     "text": [
      "Сохранено в: /home/alorozhkov/jup/ml_projects/Marketing_Response/data/processed/MK_PROCESSED_DATA.csv\n"
     ]
    }
   ],
   "source": [
    "# Сохранение данных в файл\n",
    "df.to_csv(processed_data, index = False)\n",
    "print(f'Сохранено в: {processed_data}')"
   ]
  },
  {
   "cell_type": "markdown",
   "id": "f10434ef-7d84-45b5-af34-3abe1198292d",
   "metadata": {},
   "source": [
    "### Заключение"
   ]
  },
  {
   "cell_type": "markdown",
   "id": "3c330aa9-a53a-4fae-b4c4-84965c211361",
   "metadata": {},
   "source": [
    "Выводы:\n",
    "- Удалено 24 пропуска\n",
    "- Выявлен дисбаланс по таргету 'Response'"
   ]
  }
 ],
 "metadata": {
  "kernelspec": {
   "display_name": "Python (aut_ml)",
   "language": "python",
   "name": "auto_ml_venv_kernel"
  },
  "language_info": {
   "codemirror_mode": {
    "name": "ipython",
    "version": 3
   },
   "file_extension": ".py",
   "mimetype": "text/x-python",
   "name": "python",
   "nbconvert_exporter": "python",
   "pygments_lexer": "ipython3",
   "version": "3.10.12"
  }
 },
 "nbformat": 4,
 "nbformat_minor": 5
}
